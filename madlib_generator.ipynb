{
 "cells": [
  {
   "cell_type": "code",
   "execution_count": 1,
   "metadata": {},
   "outputs": [],
   "source": [
    "from tkinter import *"
   ]
  },
  {
   "cell_type": "code",
   "execution_count": 2,
   "metadata": {
    "scrolled": true
   },
   "outputs": [],
   "source": [
    "#main display window\n",
    "root = Tk()\n",
    "root.title(\"Madlibs Generator\")\n",
    "root.geometry('700x450')\n",
    "root.resizable(True, True)\n",
    "Label(root, text='Welcome to Madlibs Generator!', bg = 'light salmon', font = 'arial 25').pack()\n",
    "Label(root, text='Click on a prompt of your choice and start playing!', bg = 'dark salmon', font = 'arial 15').place(x=120, y=80)"
   ]
  },
  {
   "cell_type": "code",
   "execution_count": 3,
   "metadata": {},
   "outputs": [],
   "source": [
    "#1st prompt\n",
    "\n",
    "def madlib1():\n",
    "    adjv= input('enter an adjective : ')\n",
    "    adjv2= input('enter an adjective : ')\n",
    "    food = input('enter a type of food: ')\n",
    "    room = input('enter a room in a house: ')\n",
    "    verb = input('enter a verb in past tense: ')\n",
    "    verb2 = input('enter a verb: ')\n",
    "    name = input('enter a name: ')\n",
    "    noun = input('enter a noun: ')\n",
    "    liquid = input('enter a type of liquid: ')\n",
    "    verb3 = input('enter a verb in -ing form: ')\n",
    "    body_part = input('enter the name of a body part: ')\n",
    "    noun2 = input('enter a plural noun: ')\n",
    "    verb4 = input('enter a verb in -ing form: ')\n",
    "    body_part2 = input('enter the name of a body part: ')\n",
    "    noun3 = input('enter a noun : ')\n",
    "    print('\\n\\nIt was a ' + adjv + ' cold November day! I woke up to the ' + adjv2 + ' smell of ' + food +\n",
    "          ' roasting in the '+ room + ' downstairs.I '+ verb +' down the stairs to see if I could help '+ verb2 +' the dinner.' \n",
    "          'My mom said,\"See if\" '+ name + ' needs a fresh ' + noun + '.So I carried a tray of glasses full of '+ liquid+ ' into the '+ verb3 +\n",
    "          'room.When I got there I couldnt believe my '+body_part2+'!There were '+ noun2,verb4 +' on the '+ noun3)\n",
    "    \n",
    "#2nd prompt\n",
    "\n",
    "def madlib2():\n",
    "    adjv = input('enter an adjective : ')\n",
    "    verb = input('enter a verb : ')\n",
    "    adjv2 = input('enter an adjective : ')\n",
    "    noun = input('enter a noun : ')\n",
    "    verb2 = input('enter a verb : ')\n",
    "    adjv3 = input('enter an adjective : ')\n",
    "    noun2 = input('enter a noun : ')\n",
    "    adjv4 = input('enter an adjective : ')\n",
    "    adjv5 = input('enter an adjective : ')\n",
    "    noun3 = input('enter a noun : ')\n",
    "    noun4 = input('enter a noun : ')\n",
    "    print('\\n\\nOur school cafeteria has really '+ adjv +' food.Just thinking about it makes my stomach '+ verb +'.The spaghetti is '\n",
    "         + adjv2 + ' and tastes like '+ noun +'.One day, I swear one of my meatballs started to '+ verb2 +'!The turkey tacos are totally '\n",
    "         + adjv3 +' and look kind of like old '+ noun2 +'.My friend Dana actually likes the meatloaf,even though it is '+ adjv4 +\n",
    "         ' and '+ adjv5 +'.I call it \"mystery meatloaf\" and think its really made out of '+ noun3 +\n",
    "          '.My dad said he would make me lunches, but the first he made a sandwich out of '+ noun4 + \n",
    "          ' and peanut butter!I think I would rather take my chances with the cafeteria!')\n",
    "    \n",
    "    \n",
    "#3rd prompt\n",
    "\n",
    "def madlib3():\n",
    "    animal = input('enter an animal : ')\n",
    "    country = input('enter a country :')\n",
    "    noun = input('enter a plural noun : ')\n",
    "    food = input('enter a food item : ')\n",
    "    device = input('enter a type of screen device : ')\n",
    "    noun2 = input('enter a noun : ')\n",
    "    verb = input('enter a verb : ')\n",
    "    verb2 = input('enter a verb : ')\n",
    "    adjv = input('enter a adjective : ')\n",
    "    print('\\n\\nThe majestic '+ adjv + ' has roamed the forests of '+ country +' for thousands of years. Today, she wanders in search of '\n",
    "         + noun + '.She must find food to survive.While hunting for '+ food +' ,she found a '+ device +' hidden behind a '+ noun2 +\n",
    "          '.She has never seen anything like this before.What will she do?With the device in her teeth,she tries to '+ verb +\n",
    "          ' but nothing happens.She takes it back to her family.When her family sees it, they quickly '+ verb2 +'.Soon, the device becomes '\n",
    "         + adjv +',and the family decides to put it back where they had found it.' )\n",
    "    \n",
    "    \n",
    "    \n"
   ]
  },
  {
   "cell_type": "code",
   "execution_count": null,
   "metadata": {},
   "outputs": [
    {
     "name": "stdout",
     "output_type": "stream",
     "text": [
      "enter an adjective : spicy\n",
      "enter a verb : play\n",
      "enter an adjective : cold\n",
      "enter a noun : bread\n",
      "enter a verb : eating\n",
      "enter an adjective : tasty\n",
      "enter a noun : car\n",
      "enter an adjective : sweet\n",
      "enter an adjective : hot\n",
      "enter a noun : cake\n",
      "enter a noun : pen\n",
      "\n",
      "\n",
      "Our school cafeteria has really spicy food.Just thinking about it makes my stomach play.The spaghetti is cold and tastes like bread.One day, I swear one of my meatballs started to eating!The turkey tacos are totally tasty and look kind of like old car.My friend Dana actually likes the meatloaf,even though it is sweet and hot.I call it \"mystery meatloaf\" and think its really made out of cake.My dad said he would make me lunches, but the first he made a sandwich out of pen and peanut butter!I think I would rather take my chances with the cafeteria!\n"
     ]
    }
   ],
   "source": [
    "#buttons\n",
    "button1 = Button(root, text= 'Prompt 1', font ='arial 15', command = madlib1, bg = 'tomato').place(x=300, y=160)\n",
    "button2 = Button(root, text= 'Prompt 2', font ='arial 15', command = madlib2, bg = 'orange red').place(x=300, y=240)\n",
    "button3 = Button(root, text= 'Prompt 3', font ='arial 15', command = madlib3, bg = 'red').place(x=300, y=320)\n",
    "root.mainloop()"
   ]
  },
  {
   "cell_type": "code",
   "execution_count": null,
   "metadata": {},
   "outputs": [],
   "source": []
  },
  {
   "cell_type": "code",
   "execution_count": null,
   "metadata": {},
   "outputs": [],
   "source": []
  }
 ],
 "metadata": {
  "kernelspec": {
   "display_name": "Python 3",
   "language": "python",
   "name": "python3"
  },
  "language_info": {
   "codemirror_mode": {
    "name": "ipython",
    "version": 3
   },
   "file_extension": ".py",
   "mimetype": "text/x-python",
   "name": "python",
   "nbconvert_exporter": "python",
   "pygments_lexer": "ipython3",
   "version": "3.8.3"
  }
 },
 "nbformat": 4,
 "nbformat_minor": 4
}
